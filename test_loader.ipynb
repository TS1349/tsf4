{
 "cells": [
  {
   "cell_type": "code",
   "execution_count": 1,
   "metadata": {},
   "outputs": [],
   "source": [
    "%load_ext autoreload\n",
    "%autoreload 2"
   ]
  },
  {
   "cell_type": "code",
   "execution_count": 2,
   "metadata": {},
   "outputs": [],
   "source": [
    "import numpy as np\n",
    "import torch\n",
    "import matplotlib.pyplot as plt\n",
    "import torchvision.transforms.functional as F\n",
    "\n",
    "\n",
    "plt.rcParams[\"savefig.bbox\"] = \"tight\"\n",
    "\n",
    "\n",
    "def plot(imgs, **imshow_kwargs):\n",
    "    if not isinstance(imgs[0], list):\n",
    "        # Make a 2d grid even if there's just 1 row\n",
    "        imgs = [imgs]\n",
    "\n",
    "    num_rows = len(imgs)\n",
    "    num_cols = len(imgs[0])\n",
    "    _, axs = plt.subplots(nrows=num_rows, ncols=num_cols, squeeze=False)\n",
    "    for row_idx, row in enumerate(imgs):\n",
    "        for col_idx, img in enumerate(row):\n",
    "            ax = axs[row_idx, col_idx]\n",
    "            img = F.to_pil_image(img.to(\"cpu\"))\n",
    "            ax.imshow(np.asarray(img), **imshow_kwargs)\n",
    "            ax.set(xticklabels=[], yticklabels=[], xticks=[], yticks=[])\n",
    "\n",
    "    plt.tight_layout()"
   ]
  },
  {
   "cell_type": "code",
   "execution_count": 3,
   "metadata": {},
   "outputs": [],
   "source": [
    "from dataloader import VAEDataset\n",
    "\n",
    "locations = [\n",
    "    #\"./datasets/share_datasets/fold_csv_files/EAV_fold_csv/EAV_dataset_updated_fold0.csv\",\n",
    "    #\"./datasets/share_datasets/fold_csv_files/Emognition_fold_csv/Emognition_dataset_updated_fold0.csv\",\n",
    "    #\"./datasets/share_datasets/fold_csv_files/K_EmoCon_fold_csv/K_EmoCon_dataset_updated_fold0.csv\",\n",
    "    #\"./datasets/share_datasets/fold_csv_files/MDMER_fold_csv/MDMER_dataset_updated_fold0.csv\",\n",
    "    ]\n",
    "\n",
    "\n",
    "for location in locations:\n",
    "    print(location.split(r'/')[-1],\":\")\n",
    "    ds_train = VAEDataset(location, split=\"train\")\n",
    "    ds_test = VAEDataset(location, split=\"test\")\n",
    "\n",
    "    print(ds_test[0])\n",
    "    print(ds_test[10])\n",
    "    print(ds_train[0])\n",
    "    print(ds_test[10])\n",
    "    print(\"================\")"
   ]
  },
  {
   "cell_type": "code",
   "execution_count": 4,
   "metadata": {},
   "outputs": [],
   "source": [
    "ds_test = VAEDataset(\"./datasets/share_datasets/fold_csv_files/Emognition_fold_csv/Emognition_dataset_updated_fold0.csv\", split=\"test\")"
   ]
  },
  {
   "cell_type": "code",
   "execution_count": null,
   "metadata": {},
   "outputs": [
    {
     "name": "stdout",
     "output_type": "stream",
     "text": [
      "dataset                                                       Emognition\n",
      "root                                               ./datasets/Emognition\n",
      "data_split                                                          test\n",
      "facial_video                 ./datasets/Emognition/videos/24_sadness.mp4\n",
      "EEG                    ./datasets/Emognition/EEG/24/24_SADNESS_STIMUL...\n",
      "ECG                                                                False\n",
      "EDA                                                                False\n",
      "EOG                                                                False\n",
      "EMG                                                                False\n",
      "GSR                                                                False\n",
      "BVP                    ./datasets/Emognition/study_data/24/24_sadness...\n",
      "respiration                                                        False\n",
      "skin_temp                                                          False\n",
      "heart_rate                                                         False\n",
      "IBI                                                                False\n",
      "PPG                                                                False\n",
      "MEG                                                                False\n",
      "anno_type                                   valence, arousal, motivation\n",
      "self_annotation                                                [3, 5, 2]\n",
      "external_annotation                                                False\n",
      "partner_annotation                                                 False\n",
      "frame_size                                                     1080/1920\n",
      "fps                                                                   60\n",
      "duration                                                      119.383333\n",
      "EEG_vec_counts                                                     30887\n",
      "EEG_ch                                                                 4\n",
      "bool_both_file                                                      True\n",
      "participant_id                                                        24\n",
      "sample_id                                                             32\n",
      "fold                                                                   0\n",
      "Name: 32, dtype: object\n"
     ]
    }
   ],
   "source": [
    "video = ds_test[10]['video']\n",
    "plot(video)"
   ]
  },
  {
   "cell_type": "code",
   "execution_count": null,
   "metadata": {},
   "outputs": [],
   "source": []
  },
  {
   "cell_type": "code",
   "execution_count": null,
   "metadata": {},
   "outputs": [],
   "source": []
  }
 ],
 "metadata": {
  "kernelspec": {
   "display_name": "Python 3 (ipykernel)",
   "language": "python",
   "name": "python3"
  },
  "language_info": {
   "codemirror_mode": {
    "name": "ipython",
    "version": 3
   },
   "file_extension": ".py",
   "mimetype": "text/x-python",
   "name": "python",
   "nbconvert_exporter": "python",
   "pygments_lexer": "ipython3",
   "version": "3.12.9"
  }
 },
 "nbformat": 4,
 "nbformat_minor": 4
}
